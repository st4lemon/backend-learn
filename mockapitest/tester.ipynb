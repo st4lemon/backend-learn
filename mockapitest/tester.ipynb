{
 "cells": [
  {
   "cell_type": "code",
   "execution_count": null,
   "id": "89db58ba",
   "metadata": {},
   "outputs": [],
   "source": [
    "import requests\n",
    "import pandas as pd\n",
    "import numpy as np\n",
    "import sklearn\n",
    "import csv\n",
    "from IPython.display import display"
   ]
  },
  {
   "cell_type": "code",
   "execution_count": null,
   "id": "8691db8e",
   "metadata": {},
   "outputs": [],
   "source": [
    "\n",
    "url = 'http://localhost:8000'\n"
   ]
  },
  {
   "cell_type": "code",
   "execution_count": null,
   "id": "3ee1e070",
   "metadata": {},
   "outputs": [],
   "source": [
    "# get all models available\n",
    "\n",
    "response = requests.get(\n",
    "    url=f'{url}/model',\n",
    ")\n",
    "\n",
    "print(response.status_code)\n",
    "print(response.json())"
   ]
  },
  {
   "cell_type": "code",
   "execution_count": null,
   "id": "ecafe99e",
   "metadata": {},
   "outputs": [],
   "source": [
    "# get models by dataname\n",
    "\n",
    "response = requests.get(\n",
    "    url=f'{url}/model/data',\n",
    "    params={\n",
    "        'dataname': 'mark_data'\n",
    "    }\n",
    ")\n",
    "\n",
    "print(response.status_code)\n",
    "print(response.json())"
   ]
  },
  {
   "cell_type": "code",
   "execution_count": null,
   "id": "1b2716d5",
   "metadata": {},
   "outputs": [],
   "source": [
    "# clean data\n",
    "\n",
    "df = pd.read_csv('data/jobs.csv').rename(columns={'tech': 'target'})\n",
    "\n",
    "target = df['target'].map(lambda x: str(x == 'yes'))\n",
    "df = df.drop(columns=[' ', 'Unnamed: 6'])\n",
    "\n",
    "display(df)\n",
    "\n"
   ]
  },
  {
   "cell_type": "code",
   "execution_count": null,
   "id": "b3055f97",
   "metadata": {},
   "outputs": [],
   "source": [
    "from sklearn.feature_extraction.text import TfidfVectorizer\n",
    "\n",
    "tfidf = TfidfVectorizer()\n",
    "\n",
    "df = tfidf.fit_transform(df['jobdescription']).toarray()\n",
    "\n",
    "df = pd.DataFrame(df)\n",
    "display(df)"
   ]
  },
  {
   "cell_type": "code",
   "execution_count": null,
   "id": "322a2128",
   "metadata": {},
   "outputs": [],
   "source": [
    "df['target'] = target\n",
    "display(df)"
   ]
  },
  {
   "cell_type": "code",
   "execution_count": null,
   "id": "317bfc2c",
   "metadata": {},
   "outputs": [],
   "source": [
    "\n",
    "df.to_csv('data/jobs_cleaned.csv', index=False)"
   ]
  },
  {
   "cell_type": "code",
   "execution_count": null,
   "id": "70460f3b",
   "metadata": {},
   "outputs": [],
   "source": [
    "# upload data\n",
    "\n",
    "with open('data/skdata/iris_data.csv', 'r') as file:\n",
    "    response = requests.post(\n",
    "        url=f'{url}/data/upload',\n",
    "        files={\n",
    "            \"file\": (f\"iris_data.csv\", file, \"text/csv\")\n",
    "        },\n",
    "        params={\n",
    "            'filename': 'iris_data'\n",
    "        }\n",
    "    )\n",
    "\n",
    "    print(response.status_code)\n",
    "    print(response.json())"
   ]
  },
  {
   "cell_type": "code",
   "execution_count": null,
   "id": "12359816",
   "metadata": {},
   "outputs": [],
   "source": [
    "# get all data available\n",
    "\n",
    "response = requests.get(\n",
    "    url=f'{url}/data'\n",
    ")\n",
    "\n",
    "print(response.status_code)\n",
    "datas = pd.DataFrame(response.json()['data'])\n",
    "display(datas)"
   ]
  },
  {
   "cell_type": "code",
   "execution_count": null,
   "id": "ab6c5a32",
   "metadata": {},
   "outputs": [],
   "source": [
    "# train\n",
    "\n",
    "response = requests.post(\n",
    "    url=f'{url}/model/train',\n",
    "    params={\n",
    "        'data': 'jobs'\n",
    "    }\n",
    ")\n",
    "\n",
    "print(response.status_code)\n",
    "print(response.json())\n",
    "\n"
   ]
  }
 ],
 "metadata": {
  "kernelspec": {
   "display_name": ".venv",
   "language": "python",
   "name": "python3"
  },
  "language_info": {
   "codemirror_mode": {
    "name": "ipython",
    "version": 3
   },
   "file_extension": ".py",
   "mimetype": "text/x-python",
   "name": "python",
   "nbconvert_exporter": "python",
   "pygments_lexer": "ipython3",
   "version": "3.12.3"
  }
 },
 "nbformat": 4,
 "nbformat_minor": 5
}
